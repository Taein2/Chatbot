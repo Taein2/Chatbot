{
  "nbformat": 4,
  "nbformat_minor": 0,
  "metadata": {
    "colab": {
      "name": "3) Text Simillarity.ipynb",
      "private_outputs": true,
      "provenance": [],
      "collapsed_sections": [],
      "authorship_tag": "ABX9TyN2k6uNCMfEr1g9xvRmeJf2",
      "include_colab_link": true
    },
    "kernelspec": {
      "name": "python3",
      "display_name": "Python 3"
    },
    "language_info": {
      "name": "python"
    }
  },
  "cells": [
    {
      "cell_type": "markdown",
      "metadata": {
        "id": "view-in-github",
        "colab_type": "text"
      },
      "source": [
        "<a href=\"https://colab.research.google.com/github/Taein2/Chatbot/blob/master/3)_Text_Simillarity.ipynb\" target=\"_parent\"><img src=\"https://colab.research.google.com/assets/colab-badge.svg\" alt=\"Open In Colab\"/></a>"
      ]
    },
    {
      "cell_type": "code",
      "execution_count": null,
      "metadata": {
        "id": "qZab7PnG4kgF"
      },
      "outputs": [],
      "source": [
        "from google.colab import drive\n",
        "drive.mount('/content/drive')"
      ]
    },
    {
      "cell_type": "code",
      "source": [
        "!pip install konlpy"
      ],
      "metadata": {
        "id": "O32kgsjC4l45"
      },
      "execution_count": null,
      "outputs": []
    },
    {
      "cell_type": "markdown",
      "source": [
        "# 2-gram 유사도"
      ],
      "metadata": {
        "id": "KASqAdK4COLo"
      }
    },
    {
      "cell_type": "code",
      "source": [
        "from konlpy.tag import Komoran\n",
        "\n",
        "# 어절 단위 n-gram\n",
        "def word_ngram(bow, num_gram):\n",
        "  text = tuple(bow)\n",
        "  ngrams = [text[x:x + num_gram] for x in range(0, len(text))]\n",
        "  return tuple(ngrams)\n",
        "\n",
        "# 유사도 계산\n",
        "def similarity(doc1, doc2):\n",
        "  cnt = 0\n",
        "  for token in doc1:\n",
        "    if token in doc2:\n",
        "      cnt += 1\n",
        "  return cnt / len(doc1)\n",
        "\n",
        "# 문장 정의\n",
        "sentence1 = \"6월에 뉴턴은 선생님의 제안으로 트리니티에 입학했다.\"\n",
        "sentence2 = \"6월에 뉴턴은 선생님의 제안으로 대학교에 입학했다.\"\n",
        "sentence3 = \"나는 맛있는 밥을 뉴턴 선생님과 함께 먹었다.\"\n",
        "\n",
        "# 형태소 분석기에서 명사(단어) 추출\n",
        "komoran = Komoran()\n",
        "bow1 = komoran.nouns(sentence1)\n",
        "bow2 = komoran.nouns(sentence2)\n",
        "bow3 = komoran.nouns(sentence3)\n",
        "\n",
        "# 단어 n-gram 토큰 추출\n",
        "doc1 = word_ngram(bow1, 2) # 2-gram 방식 추출\n",
        "doc2 = word_ngram(bow2, 2) # 2-gram 방식 추출\n",
        "doc3 = word_ngram(bow3, 2) # 2-gram 방식 추출\n",
        "\n",
        "# 추출된 n-gram 토큰 출력\n",
        "print(doc1)\n",
        "print(doc2)\n",
        "\n",
        "# 유사도 계산\n",
        "r1 = similarity(doc1, doc2)\n",
        "r2 = similarity(doc3, doc1)\n",
        "\n",
        "# 계산된 유사도 출력\n",
        "print(r1)\n",
        "print(r2)"
      ],
      "metadata": {
        "id": "08YRBaUzCNJS"
      },
      "execution_count": null,
      "outputs": []
    },
    {
      "cell_type": "markdown",
      "source": [
        "# 코사인 유사도"
      ],
      "metadata": {
        "id": "2pOMkBj4DXPf"
      }
    },
    {
      "cell_type": "code",
      "source": [
        "from konlpy.tag import Komoran\n",
        "import numpy as np\n",
        "from numpy import dot\n",
        "from numpy.linalg import norm\n",
        "\n",
        "# 코사인 유사도 계산\n",
        "def cos_sim(vec1, vec2):\n",
        "  return dot(vec1, vec2) / (norm(vec1) * norm(vec2))\n",
        "\n",
        "# TDM 만들기\n",
        "def make_term_doc_mat(sentence_bow, word_dics):\n",
        "  freq_mat = {}\n",
        "\n",
        "  for word in word_dics:\n",
        "    freq_mat[word] = 0\n",
        "  \n",
        "  for word in word_dics:\n",
        "    if word in sentence_bow:\n",
        "      freq_mat[word] += 1\n",
        "  \n",
        "  return freq_mat\n",
        "\n",
        "# 단어 벡터 만들기\n",
        "def make_vector(tdm):\n",
        "  vec = []\n",
        "  for key in tdm:\n",
        "    vec.append(tdm[key])\n",
        "  return vec\n",
        "\n",
        "# 문장 정의\n",
        "sentence1 = \"6월에 뉴턴은 선생님의 제안으로 트리니티에 입학했다.\"\n",
        "sentence2 = \"6월에 뉴턴은 선생님의 제안으로 대학교에 입학했다.\"\n",
        "sentence3 = \"나는 맛있는 밥을 뉴턴 선생님과 함께 먹었다.\"\n",
        "\n",
        "# 형태소 분석기를 이용해 단어 묶음 리스트 생성\n",
        "komoran = Komoran()\n",
        "bow1 = komoran.nouns(sentence1)\n",
        "bow2 = komoran.nouns(sentence2)\n",
        "bow3 = komoran.nouns(sentence3)\n",
        "\n",
        "# 단어 묶음 리스트를 하나로 합침\n",
        "bow = bow1 + bow2 + bow3\n",
        "\n",
        "# 단어 묶음에서 중복을 제거해 사전 단어 구축\n",
        "word_dics = []\n",
        "for token in bow:\n",
        "  if token not in word_dics:\n",
        "    word_dics.append(token)\n",
        "\n",
        "# 문장별 단어 문서 행렬 계산\n",
        "freq_list1 = make_term_doc_mat(bow1, word_dics)\n",
        "freq_list2 = make_term_doc_mat(bow2, word_dics)\n",
        "freq_list3 = make_term_doc_mat(bow3, word_dics)\n",
        "print(freq_list1)\n",
        "print(freq_list2)\n",
        "print(freq_list3)\n",
        "\n",
        "# 문장 벡터 생성\n",
        "doc1 = np.array(make_vector(freq_list1))\n",
        "doc2 = np.array(make_vector(freq_list2))\n",
        "doc3 = np.array(make_vector(freq_list3))\n",
        "\n",
        "# 코사인 유사도 계산\n",
        "r1 = cos_sim(doc1, doc2)\n",
        "r2 = cos_sim(doc3, doc1)\n",
        "print(r1)\n",
        "print(r2)"
      ],
      "metadata": {
        "id": "7ntCoiBBDUfo"
      },
      "execution_count": null,
      "outputs": []
    }
  ]
}