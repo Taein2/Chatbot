{
 "cells": [
  {
   "cell_type": "code",
   "execution_count": 3,
   "id": "b219a68a",
   "metadata": {},
   "outputs": [
    {
     "name": "stdout",
     "output_type": "stream",
     "text": [
      "DB 연결 성공\n",
      "테이블 생성 완료\n",
      "DB 연결 닫기 성공\n"
     ]
    }
   ],
   "source": [
    "import pymysql\n",
    "import pandas as pd\n",
    "\n",
    "db = None\n",
    "try:\n",
    "  # DB 호스트 정보 입력\n",
    "    db = pymysql.connect(\n",
    "        host='localhost',\n",
    "        user='root',\n",
    "        password='Xodls215@',\n",
    "        db='chatbot',\n",
    "        charset='utf8'\n",
    "    )\n",
    "    print(\"DB 연결 성공\")\n",
    "    \n",
    "    # 테이블 생성 sql 정의\n",
    "    sql = '''\n",
    "        CREATE TABLE tb_student (\n",
    "        id int primary key auto_increment not null,\n",
    "        name varchar(32),\n",
    "        age int,\n",
    "        address varchar(32)\n",
    "    ) ENGINE=InnoDB DEFAULT CHARSET=utf8\n",
    "    '''\n",
    "    \n",
    "    # 테이블 생성\n",
    "    with db.cursor() as cursor:\n",
    "        cursor.execute(sql)\n",
    "        print(\"테이블 생성 완료\")\n",
    "    \n",
    "except Exception as e:\n",
    "    print(e) # 연결 실패 시 오류 출력\n",
    "finally:\n",
    "    if db is not None: # DB가 연결된 경우에만 접속 닫기 시도\n",
    "        db.close()\n",
    "    print(\"DB 연결 닫기 성공\")"
   ]
  },
  {
   "cell_type": "code",
   "execution_count": 4,
   "id": "65641eab",
   "metadata": {},
   "outputs": [
    {
     "name": "stdout",
     "output_type": "stream",
     "text": [
      "DB 연결 성공\n",
      "[{'id': 1, 'name': 'Kei', 'age': 36, 'address': 'PUSAN'}, {'id': 2, 'name': 'Tony', 'age': 34, 'address': 'PUSAN'}, {'id': 3, 'name': 'Jaeyoo', 'age': 39, 'address': 'GWANGJU'}]\n",
      "\n",
      "이름 검색 결과 -> 이름 : Grace, 나이 : 28\n",
      "\n",
      "   id    name  age  address\n",
      "0   1     Kei   36    PUSAN\n",
      "1   2    Tony   34    PUSAN\n",
      "2   3  Jaeyoo   39  GWANGJU\n",
      "DB 연결 닫기 성공\n"
     ]
    }
   ],
   "source": [
    "import pymysql\n",
    "import pandas as pd\n",
    "\n",
    "db = None\n",
    "result_find = ''\n",
    "results = []\n",
    "try:\n",
    "  # DB 호스트 정보 입력\n",
    "    db = pymysql.connect(\n",
    "        host='localhost',\n",
    "        user='root',\n",
    "        password='Xodls215@',\n",
    "        db='chatbot',\n",
    "        charset='utf8'\n",
    "    )\n",
    "    print(\"DB 연결 성공\")\n",
    "    \n",
    "    students = [\n",
    "        {'name':'Kei', 'age':36, 'address':'PUSAN'},\n",
    "        {'name':'Tony', 'age':34, 'address':'PUSAN'},\n",
    "        {'name':'Jaeyoo', 'age':39, 'address':'GWANGJU'},\n",
    "        {'name':'Grace', 'age':28, 'address':'SEOUL'},\n",
    "        {'name':'Jenny', 'age':27, 'address':'SEOUL'},\n",
    "    ]\n",
    "    for s in students:\n",
    "        with db.cursor() as cursor:\n",
    "            sql = '''\n",
    "                insert tb_student(name, age, address) values(\"%s\", \"%d\", \"%s\")\n",
    "            ''' % (s['name'], s['age'], s['address'])\n",
    "            cursor.execute(sql)\n",
    "    db.commit()\n",
    "    \n",
    "    # 30대 학생만 조회\n",
    "    cond_age = 30\n",
    "    with db.cursor(pymysql.cursors.DictCursor) as cursor:\n",
    "        sql = '''\n",
    "            select * from tb_student where age > %d\n",
    "        ''' % cond_age\n",
    "        cursor.execute(sql)\n",
    "        result_find = cursor.fetchall()\n",
    "    print(result_find)\n",
    "    \n",
    "    # 이름 검색\n",
    "    cond_name = 'Grace'\n",
    "    with db.cursor(pymysql.cursors.DictCursor) as cursor:\n",
    "        sql = '''\n",
    "            select * from tb_student where name = \"%s\"\n",
    "        ''' % cond_name\n",
    "        cursor.execute(sql)\n",
    "        result = cursor.fetchone()\n",
    "    print(\"\\n이름 검색 결과 -> 이름 : {}, 나이 : {}\\n\".format(result['name'], result['age']))\n",
    "    \n",
    "    # pandas dataframe으로 표현\n",
    "    df = pd.DataFrame(result_find)\n",
    "    print(df)\n",
    "    \n",
    "except Exception as e:\n",
    "    print(e) # 연결 실패 시 오류 출력\n",
    "finally:\n",
    "    if db is not None: # DB가 연결된 경우에만 접속 닫기 시도\n",
    "        db.close()\n",
    "    print(\"DB 연결 닫기 성공\")"
   ]
  },
  {
   "cell_type": "code",
   "execution_count": 5,
   "id": "64aad08b",
   "metadata": {},
   "outputs": [
    {
     "data": {
      "text/html": [
       "<div>\n",
       "<style scoped>\n",
       "    .dataframe tbody tr th:only-of-type {\n",
       "        vertical-align: middle;\n",
       "    }\n",
       "\n",
       "    .dataframe tbody tr th {\n",
       "        vertical-align: top;\n",
       "    }\n",
       "\n",
       "    .dataframe thead th {\n",
       "        text-align: right;\n",
       "    }\n",
       "</style>\n",
       "<table border=\"1\" class=\"dataframe\">\n",
       "  <thead>\n",
       "    <tr style=\"text-align: right;\">\n",
       "      <th></th>\n",
       "      <th>id</th>\n",
       "      <th>name</th>\n",
       "      <th>age</th>\n",
       "      <th>address</th>\n",
       "    </tr>\n",
       "  </thead>\n",
       "  <tbody>\n",
       "    <tr>\n",
       "      <th>0</th>\n",
       "      <td>1</td>\n",
       "      <td>Kei</td>\n",
       "      <td>36</td>\n",
       "      <td>PUSAN</td>\n",
       "    </tr>\n",
       "    <tr>\n",
       "      <th>1</th>\n",
       "      <td>2</td>\n",
       "      <td>Tony</td>\n",
       "      <td>34</td>\n",
       "      <td>PUSAN</td>\n",
       "    </tr>\n",
       "    <tr>\n",
       "      <th>2</th>\n",
       "      <td>3</td>\n",
       "      <td>Jaeyoo</td>\n",
       "      <td>39</td>\n",
       "      <td>GWANGJU</td>\n",
       "    </tr>\n",
       "  </tbody>\n",
       "</table>\n",
       "</div>"
      ],
      "text/plain": [
       "   id    name  age  address\n",
       "0   1     Kei   36    PUSAN\n",
       "1   2    Tony   34    PUSAN\n",
       "2   3  Jaeyoo   39  GWANGJU"
      ]
     },
     "execution_count": 5,
     "metadata": {},
     "output_type": "execute_result"
    }
   ],
   "source": [
    "df"
   ]
  },
  {
   "cell_type": "code",
   "execution_count": null,
   "id": "2be822b7",
   "metadata": {},
   "outputs": [],
   "source": []
  },
  {
   "cell_type": "code",
   "execution_count": null,
   "id": "62162bcf",
   "metadata": {},
   "outputs": [],
   "source": []
  }
 ],
 "metadata": {
  "kernelspec": {
   "display_name": "Python 3",
   "language": "python",
   "name": "python3"
  },
  "language_info": {
   "codemirror_mode": {
    "name": "ipython",
    "version": 3
   },
   "file_extension": ".py",
   "mimetype": "text/x-python",
   "name": "python",
   "nbconvert_exporter": "python",
   "pygments_lexer": "ipython3",
   "version": "3.6.13"
  }
 },
 "nbformat": 4,
 "nbformat_minor": 5
}
