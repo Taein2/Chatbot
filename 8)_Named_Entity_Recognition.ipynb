{
  "nbformat": 4,
  "nbformat_minor": 0,
  "metadata": {
    "colab": {
      "name": "8) Named Entity Recognition.ipynb",
      "private_outputs": true,
      "provenance": [],
      "collapsed_sections": [],
      "authorship_tag": "ABX9TyNI5CVOWARzhtM12j/Ex5bU",
      "include_colab_link": true
    },
    "kernelspec": {
      "name": "python3",
      "display_name": "Python 3"
    },
    "language_info": {
      "name": "python"
    }
  },
  "cells": [
    {
      "cell_type": "markdown",
      "metadata": {
        "id": "view-in-github",
        "colab_type": "text"
      },
      "source": [
        "<a href=\"https://colab.research.google.com/github/Taein2/Chatbot/blob/master/8)_Named_Entity_Recognition.ipynb\" target=\"_parent\"><img src=\"https://colab.research.google.com/assets/colab-badge.svg\" alt=\"Open In Colab\"/></a>"
      ]
    },
    {
      "cell_type": "code",
      "execution_count": null,
      "metadata": {
        "id": "uExpFPBVictT"
      },
      "outputs": [],
      "source": [
        "from google.colab import drive\n",
        "drive.mount('/content/drive')"
      ]
    },
    {
      "cell_type": "code",
      "source": [
        "import matplotlib.pyplot as plt\n",
        "import tensorflow as tf\n",
        "from tensorflow.keras import preprocessing\n",
        "from sklearn.model_selection import train_test_split\n",
        "import numpy as np"
      ],
      "metadata": {
        "id": "dkP-jbruido5"
      },
      "execution_count": null,
      "outputs": []
    },
    {
      "cell_type": "code",
      "source": [
        "# 학습 파일 불러오기\n",
        "def read_file(file_name):\n",
        "  sents = []\n",
        "  with open(file_name, 'r', encoding='utf-8') as f:\n",
        "    lines = f.readlines()\n",
        "    for idx, l in enumerate(lines):\n",
        "      if l[0] == ';' and lines[idx + 1][0] == '$':\n",
        "        this_sent = []\n",
        "      elif l[0] == '$' and lines[idx - 1][0] == ';':\n",
        "        continue\n",
        "      elif l[0] == '\\n':\n",
        "        sents.append(this_sent)\n",
        "      else:\n",
        "        this_sent.append(tuple(l.split()))\n",
        "  return sents\n",
        "\n",
        "# 학습용 말뭉치 데이터를 불러옴\n",
        "corpus = read_file('/content/drive/MyDrive/Colab Notebooks/챗봇/train.txt')\n",
        "\n",
        "# 말뭉치 데이터에서 단어와 BIO 태그만 불러와 학습용 데이터셋 생성\n",
        "sentences, tags = [], []\n",
        "for t in corpus:\n",
        "  tagged_sentence = []\n",
        "  sentence, bio_tag = [], []\n",
        "  for w in t:\n",
        "    tagged_sentence.append((w[1], w[3]))\n",
        "    sentence.append(w[1])\n",
        "    bio_tag.append(w[3])\n",
        "  sentences.append(sentence)\n",
        "  tags.append(bio_tag)\n",
        "\n",
        "print(\"샘플 크기 : \\n\", len(sentences))\n",
        "print(\"0번째 샘플 문장 시퀀스 : \\n\", sentences[0])\n",
        "print(\"0번째 샘플 bio 태그\", tags[0])\n",
        "print(\"샘플 문장 시퀀스 최대 길이 : \", max(len(l) for l in sentences))\n",
        "print(\"샘플 문장 시퀀스 평균 길이 : \", (sum(map(len, sentences)) / len(sentences)))\n",
        "\n",
        "# 토크나이저 정의\n",
        "sent_tokenizer = preprocessing.text.Tokenizer(oov_token='OOV') # 첫 번째 인덱스에는 OOV 사용\n",
        "sent_tokenizer.fit_on_texts(sentences)\n",
        "tag_tokenizer = preprocessing.text.Tokenizer(lower=False) # 태그 정보는 lower=False 소문자로 변환하지 않는다.\n",
        "tag_tokenizer.fit_on_texts(tags)\n",
        "\n",
        "# 단어 사전 및 태그 사전 크기\n",
        "vocab_size = len(sent_tokenizer.word_index) + 1\n",
        "tag_size = len(tag_tokenizer.word_index) + 1\n",
        "print(\"BIO 태그 사전 크기 : \", tag_size)\n",
        "print(\"단어 사전 크기 : \", vocab_size)\n",
        "\n",
        "# 학습용 단어 시퀀스 생성\n",
        "x_train = sent_tokenizer.texts_to_sequences(sentences)\n",
        "y_train = tag_tokenizer.texts_to_sequences(tags)\n",
        "print(x_train[0])\n",
        "print(y_train[0])\n",
        "\n",
        "# index to word / index to NER 정의\n",
        "index_to_word = sent_tokenizer.index_word # 시퀀스 인덱스를 단어로 변환하기 위해 사용\n",
        "index_to_ner = tag_tokenizer.index_word # 시퀀스 인덱스를 NER로 변환하기 위해 사용\n",
        "index_to_ner[0] = 'PAD'\n",
        "\n",
        "# 시퀀스 패딩 처리\n",
        "max_len = 40\n",
        "x_train = preprocessing.sequence.pad_sequences(x_train, padding='post', maxlen=max_len)\n",
        "y_train = preprocessing.sequence.pad_sequences(y_train, padding='post', maxlen=max_len)\n",
        "\n",
        "# 학습 데이터와 테스트 데이터를 8:2 비율로 분리\n",
        "x_train, x_test, y_train, y_test = train_test_split(x_train, y_train, test_size=.2, random_state=0)\n",
        "\n",
        "# 출력 데이터를 원-핫 인코딩\n",
        "y_train = tf.keras.utils.to_categorical(y_train, num_classes=tag_size)\n",
        "y_test = tf.keras.utils.to_categorical(y_test, num_classes=tag_size)\n",
        "\n",
        "print(\"학습 샘플 시퀀스 형상 : \", x_train.shape)\n",
        "print(\"학습 샘플 레이블 형상 : \", y_train.shape)\n",
        "print(\"테스트 샘플 시퀀스 형상 : \", x_test.shape)\n",
        "print(\"테스트 샘플 레이블 형상 : \", y_test.shape)\n",
        "\n",
        "# 모델 정의(Bi-LSTM)\n",
        "from tensorflow.keras.models import Sequential\n",
        "from tensorflow.keras.layers import LSTM, Embedding, Dense, TimeDistributed, Dropout, Bidirectional\n",
        "from tensorflow.keras.optimizers import Adam\n",
        "\n",
        "model = Sequential()\n",
        "model.add(Embedding(input_dim=vocab_size, output_dim=30, input_length=max_len, mask_zero=True))\n",
        "model.add(Bidirectional(LSTM(200, return_sequences=True, dropout=0.50, recurrent_dropout=0.25)))\n",
        "model.add(TimeDistributed(Dense(tag_size, activation='softmax')))\n",
        "model.compile(loss='categorical_crossentropy', optimizer=Adam(0.01), metrics=['accuracy'])\n",
        "model.fit(x_train, y_train, batch_size=128, epochs=10)\n",
        "\n",
        "print(\"평가 결과 : \", model.evaluate(x_test, y_test)[1])\n",
        "\n",
        "# 시퀀스를 NER 태그로 변환\n",
        "def sequences_to_tag(sequences):\n",
        "  result = []\n",
        "  for sequence in sequences:\n",
        "    temp = []\n",
        "    for pred in sequence:\n",
        "      pred_index = np.argmax(pred)\n",
        "      temp.append(index_to_ner[pred_index].replace(\"PAD\",\"O\"))\n",
        "    result.append(temp)\n",
        "  return result\n",
        "\n",
        "# 테스트 데이터셋의 NER 예측\n",
        "y_pred = model.predict(x_test) # (711,40) => model => (711, 40, 8)\n",
        "pred_tags = sequences_to_tag(y_pred) # 예측된 NER\n",
        "test_tags = sequences_to_tag(y_test) # 실제 NER\n",
        "\n",
        "# F1 스코어 계산을 위해 사용\n",
        "from seqeval.metrics import f1_score, classification_report\n",
        "print(classification_report(test_tags, pred_tags))\n",
        "print(\"F1-score : {:.1%}\".format(f1_score(test_tags, pred_tags)))\n",
        "\n",
        "# 새로운 유형의 문장 NER 예측\n",
        "word_to_index = sent_tokenizer.word_index\n",
        "new_sentence = \"삼성전자 출시 스마트폰 오늘 애플 도전장 내밀다.\".split()\n",
        "new_x = []\n",
        "for w in new_sentence:\n",
        "  try:\n",
        "    new_x.append(word_to_index.get(w, 1))\n",
        "  except KeyError:\n",
        "    # 모르는 단어의 경우 OOV\n",
        "    new_x.append(word_to_index['OOV'])\n",
        "print(\"새로운 유형의 시퀀스 : \", new_x)\n",
        "new_padded_seqs = preprocessing.sequence.pad_sequences([new_x], padding=\"post\", value=0, maxlen=max_len)\n",
        "\n",
        "# NER 예측\n",
        "p = model.predict(np.array([new_padded_seqs[0]]))\n",
        "p = np.argmax(p, axis=-1) # 예측된 NER 인덱스값 추출\n",
        "\n",
        "print(\"{:10} {:5}\".format(\"단어\", \"예측된 NER\"))\n",
        "print(\"-\" * 50)\n",
        "for w, pred in zip(new_sentence, p[0]):\n",
        "  print(\"{:10} {:5}\".format(w, index_to_ner[pred]))\n",
        "  "
      ],
      "metadata": {
        "id": "HYSgOVUgkSXf"
      },
      "execution_count": null,
      "outputs": []
    },
    {
      "cell_type": "code",
      "source": [
        ""
      ],
      "metadata": {
        "id": "wogRId6opxs2"
      },
      "execution_count": null,
      "outputs": []
    }
  ]
}