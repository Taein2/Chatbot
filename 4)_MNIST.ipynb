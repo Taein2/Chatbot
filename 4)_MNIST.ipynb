{
  "nbformat": 4,
  "nbformat_minor": 0,
  "metadata": {
    "colab": {
      "name": "4) MNIST.ipynb",
      "private_outputs": true,
      "provenance": [],
      "collapsed_sections": [],
      "authorship_tag": "ABX9TyNgTx1C820LOA/dwhfnq1tV",
      "include_colab_link": true
    },
    "kernelspec": {
      "name": "python3",
      "display_name": "Python 3"
    },
    "language_info": {
      "name": "python"
    }
  },
  "cells": [
    {
      "cell_type": "markdown",
      "metadata": {
        "id": "view-in-github",
        "colab_type": "text"
      },
      "source": [
        "<a href=\"https://colab.research.google.com/github/Taein2/Chatbot/blob/master/4)_MNIST.ipynb\" target=\"_parent\"><img src=\"https://colab.research.google.com/assets/colab-badge.svg\" alt=\"Open In Colab\"/></a>"
      ]
    },
    {
      "cell_type": "code",
      "execution_count": null,
      "metadata": {
        "id": "Q_ETPxPdFIKk"
      },
      "outputs": [],
      "source": [
        "from google.colab import drive\n",
        "drive.mount('/content/drive')"
      ]
    },
    {
      "cell_type": "code",
      "source": [
        "import tensorflow as tf\n",
        "import matplotlib.pyplot as plt\n",
        "from tensorflow.keras.datasets import mnist\n",
        "from tensorflow.keras.models import Sequential\n",
        "from tensorflow.keras.layers import Flatten, Dense"
      ],
      "metadata": {
        "id": "jkkY6vD0FS_y"
      },
      "execution_count": null,
      "outputs": []
    },
    {
      "cell_type": "markdown",
      "source": [
        "# MNIST"
      ],
      "metadata": {
        "id": "gQXV2W6kH2kd"
      }
    },
    {
      "cell_type": "code",
      "source": [
        "# MNIST 데이터셋 가져오기\n",
        "(x_train, y_train), (x_test, y_test) = mnist.load_data()\n",
        "x_train, x_test = x_train / 255.0, x_test / 255.0 # 데이터 정규화\n",
        "\n",
        "# tf.data를 사용하여 데이터셋을 섞고 배치 만들기\n",
        "ds = tf.data.Dataset.from_tensor_slices((x_train, y_train)).shuffle(10000)\n",
        "train_size = int(len(x_train) * 0.7) # 학습셋:검증셋 = 7:3\n",
        "train_ds = ds.take(train_size).batch(20)\n",
        "val_ds = ds.skip(train_size).batch(20)\n",
        "\n",
        "# MNIST 분류 모델 구성\n",
        "model = Sequential()\n",
        "model.add(Flatten(input_shape=(28, 28)))\n",
        "model.add(Dense(20, activation='relu'))\n",
        "model.add(Dense(20, activation='relu'))\n",
        "model.add(Dense(10, activation='softmax'))\n",
        "\n",
        "# 모델 생성\n",
        "model.compile(loss='sparse_categorical_crossentropy', optimizer='sgd', metrics=['accuracy'])\n",
        "\n",
        "# 모델 학습\n",
        "hist = model.fit(train_ds, validation_data=val_ds, epochs=10)\n",
        "\n",
        "# 모델 평가\n",
        "print(\"모델 평가\")\n",
        "model.evaluate(x_test, y_test)\n",
        "\n",
        "# 모델 정보 출력\n",
        "model.summary()\n",
        "\n",
        "# 모델 저장\n",
        "model.save('mnist_model.h5')\n",
        "\n",
        "# 학습 결과 그래프 그리기\n",
        "fig, loss_ax = plt.subplots()\n",
        "acc_ax = loss_ax.twinx()\n",
        "\n",
        "loss_ax.plot(hist.history['loss'], 'y', label='train loss')\n",
        "loss_ax.plot(hist.history['val_loss'], 'r', label='val loss')\n",
        "\n",
        "acc_ax.plot(hist.history['accuracy'], 'b', label='train acc')\n",
        "acc_ax.plot(hist.history['val_accuracy'], 'g', label='val acc')\n",
        "\n",
        "loss_ax.set_xlabel('epoch')\n",
        "loss_ax.set_ylabel('loss')\n",
        "loss_ax.set_ylabel('accuracy')\n",
        "\n",
        "loss_ax.legend(loc='upper left')\n",
        "acc_ax.legend(loc='lower left')\n",
        "plt.show()"
      ],
      "metadata": {
        "id": "GWdPSu8mFxMo"
      },
      "execution_count": null,
      "outputs": []
    },
    {
      "cell_type": "code",
      "source": [
        "from tensorflow.keras.datasets import mnist\n",
        "from tensorflow.keras.models import load_model\n",
        "import matplotlib.pyplot as plt\n",
        "\n",
        "# MNIST 데이터셋 가져오기\n",
        "_, (x_test, y_test) = mnist.load_data()\n",
        "x_test = x_test / 255.0 # 데이터 정규화\n",
        "\n",
        "# 모델 불러오기\n",
        "model = load_model('mnist_model.h5')\n",
        "model.summary()\n",
        "model.evaluate(x_test, y_test, verbose=2)\n",
        "\n",
        "# 테스트셋에서 20번째 이미지 출력\n",
        "plt.imshow(x_test[20], cmap='gray')\n",
        "plt.show()\n",
        "\n",
        "# 테스트셋에서 20번째 이미지 클래스 분류\n",
        "picks = [20]\n",
        "y_prob = model.predict(x_test[picks])\n",
        "predict = y_prob.argmax(axis=-1)\n",
        "\n",
        "print(\"손글씨 이미지 예측값 : \", predict)"
      ],
      "metadata": {
        "id": "kAWLH4kIGiOC"
      },
      "execution_count": null,
      "outputs": []
    }
  ]
}